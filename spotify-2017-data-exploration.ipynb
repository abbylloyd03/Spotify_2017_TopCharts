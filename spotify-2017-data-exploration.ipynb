{
 "cells": [
  {
   "cell_type": "markdown",
   "id": "7f6c8b85",
   "metadata": {
    "papermill": {
     "duration": 0.011087,
     "end_time": "2022-02-17T23:38:52.597234",
     "exception": false,
     "start_time": "2022-02-17T23:38:52.586147",
     "status": "completed"
    },
    "tags": []
   },
   "source": []
  },
  {
   "cell_type": "markdown",
   "id": "0c2a5cea",
   "metadata": {
    "papermill": {
     "duration": 0.009775,
     "end_time": "2022-02-17T23:38:52.619311",
     "exception": false,
     "start_time": "2022-02-17T23:38:52.609536",
     "status": "completed"
    },
    "tags": []
   },
   "source": [
    "# Exploratory Analysis of Spotify Top Charts Data (2017)"
   ]
  },
  {
   "cell_type": "code",
   "execution_count": 1,
   "id": "a2386020",
   "metadata": {
    "_cell_guid": "b1076dfc-b9ad-4769-8c92-a6c4dae69d19",
    "_uuid": "8f2839f25d086af736a60e9eeb907d3b93b6e0e5",
    "execution": {
     "iopub.execute_input": "2022-02-17T23:38:52.642865Z",
     "iopub.status.busy": "2022-02-17T23:38:52.641825Z",
     "iopub.status.idle": "2022-02-17T23:38:52.658747Z",
     "shell.execute_reply": "2022-02-17T23:38:52.657920Z",
     "shell.execute_reply.started": "2022-02-17T23:15:11.582589Z"
    },
    "papermill": {
     "duration": 0.029853,
     "end_time": "2022-02-17T23:38:52.658968",
     "exception": false,
     "start_time": "2022-02-17T23:38:52.629115",
     "status": "completed"
    },
    "tags": []
   },
   "outputs": [
    {
     "name": "stdout",
     "output_type": "stream",
     "text": [
      "/kaggle/input/spotify-charts/charts.csv\n"
     ]
    }
   ],
   "source": [
    "# This Python 3 environment comes with many helpful analytics libraries installed\n",
    "# It is defined by the kaggle/python Docker image: https://github.com/kaggle/docker-python\n",
    "# For example, here's several helpful packages to load\n",
    "\n",
    "import numpy as np # linear algebra\n",
    "import pandas as pd # data processing, CSV file I/O (e.g. pd.read_csv)\n",
    "import re\n",
    "\n",
    "# Input data files are available in the read-only \"../input/\" directory\n",
    "# For example, running this (by clicking run or pressing Shift+Enter) will list all files under the input directory\n",
    "\n",
    "import os\n",
    "for dirname, _, filenames in os.walk('/kaggle/input'):\n",
    "    for filename in filenames:\n",
    "        print(os.path.join(dirname, filename))\n",
    "\n",
    "# You can write up to 20GB to the current directory (/kaggle/working/) that gets preserved as output when you create a version using \"Save & Run All\" \n",
    "# You can also write temporary files to /kaggle/temp/, but they won't be saved outside of the current session"
   ]
  },
  {
   "cell_type": "markdown",
   "id": "a47ff331",
   "metadata": {
    "papermill": {
     "duration": 0.010612,
     "end_time": "2022-02-17T23:38:52.681514",
     "exception": false,
     "start_time": "2022-02-17T23:38:52.670902",
     "status": "completed"
    },
    "tags": []
   },
   "source": [
    "**Explore data**"
   ]
  },
  {
   "cell_type": "code",
   "execution_count": 2,
   "id": "b2bfe4f6",
   "metadata": {
    "execution": {
     "iopub.execute_input": "2022-02-17T23:38:52.705717Z",
     "iopub.status.busy": "2022-02-17T23:38:52.705127Z",
     "iopub.status.idle": "2022-02-17T23:40:21.587424Z",
     "shell.execute_reply": "2022-02-17T23:40:21.587894Z",
     "shell.execute_reply.started": "2022-02-17T23:15:11.604687Z"
    },
    "papermill": {
     "duration": 88.896092,
     "end_time": "2022-02-17T23:40:21.588082",
     "exception": false,
     "start_time": "2022-02-17T23:38:52.691990",
     "status": "completed"
    },
    "tags": []
   },
   "outputs": [
    {
     "name": "stdout",
     "output_type": "stream",
     "text": [
      "                         title  rank        date  \\\n",
      "0      Chantaje (feat. Maluma)     1  2017-01-01   \n",
      "1  Vente Pa' Ca (feat. Maluma)     2  2017-01-01   \n",
      "2   Reggaetón Lento (Bailemos)     3  2017-01-01   \n",
      "3                       Safari     4  2017-01-01   \n",
      "4                  Shaky Shaky     5  2017-01-01   \n",
      "\n",
      "                                  artist  \\\n",
      "0                                Shakira   \n",
      "1                           Ricky Martin   \n",
      "2                                   CNCO   \n",
      "3  J Balvin, Pharrell Williams, BIA, Sky   \n",
      "4                           Daddy Yankee   \n",
      "\n",
      "                                                 url     region   chart  \\\n",
      "0  https://open.spotify.com/track/6mICuAdrwEjh6Y6...  Argentina  top200   \n",
      "1  https://open.spotify.com/track/7DM4BPaS7uofFul...  Argentina  top200   \n",
      "2  https://open.spotify.com/track/3AEZUABDXNtecAO...  Argentina  top200   \n",
      "3  https://open.spotify.com/track/6rQSrBHf7HlZjtc...  Argentina  top200   \n",
      "4  https://open.spotify.com/track/58IL315gMSTD37D...  Argentina  top200   \n",
      "\n",
      "           trend   streams  \n",
      "0  SAME_POSITION  253019.0  \n",
      "1        MOVE_UP  223988.0  \n",
      "2      MOVE_DOWN  210943.0  \n",
      "3  SAME_POSITION  173865.0  \n",
      "4        MOVE_UP  153956.0  \n"
     ]
    }
   ],
   "source": [
    "df = pd.read_csv(r'/kaggle/input/spotify-charts/charts.csv')\n",
    "print(df.head())"
   ]
  },
  {
   "cell_type": "code",
   "execution_count": 3,
   "id": "fa2aa196",
   "metadata": {
    "execution": {
     "iopub.execute_input": "2022-02-17T23:40:21.621636Z",
     "iopub.status.busy": "2022-02-17T23:40:21.620749Z",
     "iopub.status.idle": "2022-02-17T23:40:21.625611Z",
     "shell.execute_reply": "2022-02-17T23:40:21.624857Z",
     "shell.execute_reply.started": "2022-02-17T23:17:05.377747Z"
    },
    "papermill": {
     "duration": 0.026685,
     "end_time": "2022-02-17T23:40:21.625797",
     "exception": false,
     "start_time": "2022-02-17T23:40:21.599112",
     "status": "completed"
    },
    "tags": []
   },
   "outputs": [
    {
     "data": {
      "text/plain": [
       "['title',\n",
       " 'rank',\n",
       " 'date',\n",
       " 'artist',\n",
       " 'url',\n",
       " 'region',\n",
       " 'chart',\n",
       " 'trend',\n",
       " 'streams']"
      ]
     },
     "execution_count": 3,
     "metadata": {},
     "output_type": "execute_result"
    }
   ],
   "source": [
    "list(df.columns)"
   ]
  },
  {
   "cell_type": "code",
   "execution_count": 4,
   "id": "8ef1eed6",
   "metadata": {
    "execution": {
     "iopub.execute_input": "2022-02-17T23:40:21.658916Z",
     "iopub.status.busy": "2022-02-17T23:40:21.657918Z",
     "iopub.status.idle": "2022-02-17T23:40:23.256115Z",
     "shell.execute_reply": "2022-02-17T23:40:23.255512Z",
     "shell.execute_reply.started": "2022-02-17T23:17:05.388703Z"
    },
    "papermill": {
     "duration": 1.616491,
     "end_time": "2022-02-17T23:40:23.256339",
     "exception": false,
     "start_time": "2022-02-17T23:40:21.639848",
     "status": "completed"
    },
    "tags": []
   },
   "outputs": [
    {
     "data": {
      "text/plain": [
       "['Argentina',\n",
       " 'Australia',\n",
       " 'Brazil',\n",
       " 'Austria',\n",
       " 'Belgium',\n",
       " 'Colombia',\n",
       " 'Bolivia',\n",
       " 'Denmark',\n",
       " 'Bulgaria',\n",
       " 'Canada',\n",
       " 'Chile',\n",
       " 'Costa Rica',\n",
       " 'Czech Republic',\n",
       " 'Finland',\n",
       " 'Dominican Republic',\n",
       " 'Ecuador',\n",
       " 'El Salvador',\n",
       " 'Estonia',\n",
       " 'France',\n",
       " 'Germany',\n",
       " 'Global',\n",
       " 'Greece',\n",
       " 'Guatemala',\n",
       " 'Honduras',\n",
       " 'Hong Kong',\n",
       " 'Hungary',\n",
       " 'Iceland',\n",
       " 'Indonesia',\n",
       " 'Ireland',\n",
       " 'Italy',\n",
       " 'Japan',\n",
       " 'Latvia',\n",
       " 'Lithuania',\n",
       " 'Malaysia',\n",
       " 'Luxembourg',\n",
       " 'Mexico',\n",
       " 'Netherlands',\n",
       " 'New Zealand',\n",
       " 'Nicaragua',\n",
       " 'Norway',\n",
       " 'Panama',\n",
       " 'Paraguay',\n",
       " 'Peru',\n",
       " 'Philippines',\n",
       " 'Poland',\n",
       " 'Portugal',\n",
       " 'Singapore',\n",
       " 'Spain',\n",
       " 'Slovakia',\n",
       " 'Sweden',\n",
       " 'Taiwan',\n",
       " 'Switzerland',\n",
       " 'Turkey',\n",
       " 'United Kingdom',\n",
       " 'United States',\n",
       " 'Uruguay',\n",
       " 'Thailand',\n",
       " 'Andorra',\n",
       " 'Romania',\n",
       " 'Vietnam',\n",
       " 'Egypt',\n",
       " 'India',\n",
       " 'Israel',\n",
       " 'Morocco',\n",
       " 'Saudi Arabia',\n",
       " 'South Africa',\n",
       " 'United Arab Emirates',\n",
       " 'Russia',\n",
       " 'Ukraine',\n",
       " 'South Korea']"
      ]
     },
     "execution_count": 4,
     "metadata": {},
     "output_type": "execute_result"
    }
   ],
   "source": [
    "list(df.region.unique())"
   ]
  },
  {
   "cell_type": "code",
   "execution_count": 5,
   "id": "7f074e7c",
   "metadata": {
    "execution": {
     "iopub.execute_input": "2022-02-17T23:40:23.283336Z",
     "iopub.status.busy": "2022-02-17T23:40:23.282681Z",
     "iopub.status.idle": "2022-02-17T23:40:24.710079Z",
     "shell.execute_reply": "2022-02-17T23:40:24.710505Z",
     "shell.execute_reply.started": "2022-02-17T23:17:07.422249Z"
    },
    "papermill": {
     "duration": 1.442303,
     "end_time": "2022-02-17T23:40:24.710674",
     "exception": false,
     "start_time": "2022-02-17T23:40:23.268371",
     "status": "completed"
    },
    "tags": []
   },
   "outputs": [
    {
     "data": {
      "text/plain": [
       "['top200', 'viral50']"
      ]
     },
     "execution_count": 5,
     "metadata": {},
     "output_type": "execute_result"
    }
   ],
   "source": [
    "list(df.chart.unique())"
   ]
  },
  {
   "cell_type": "code",
   "execution_count": 6,
   "id": "e3eb80af",
   "metadata": {
    "execution": {
     "iopub.execute_input": "2022-02-17T23:40:24.737455Z",
     "iopub.status.busy": "2022-02-17T23:40:24.736888Z",
     "iopub.status.idle": "2022-02-17T23:40:28.001408Z",
     "shell.execute_reply": "2022-02-17T23:40:28.002374Z",
     "shell.execute_reply.started": "2022-02-17T23:17:09.351137Z"
    },
    "papermill": {
     "duration": 3.280017,
     "end_time": "2022-02-17T23:40:28.002550",
     "exception": false,
     "start_time": "2022-02-17T23:40:24.722533",
     "status": "completed"
    },
    "tags": []
   },
   "outputs": [
    {
     "data": {
      "text/plain": [
       "Ed Sheeran                                                                 387917\n",
       "Billie Eilish                                                              251825\n",
       "Post Malone                                                                211272\n",
       "Bad Bunny                                                                  203403\n",
       "Ariana Grande                                                              189914\n",
       "                                                                            ...  \n",
       "Ezhel, Patron, Anıl Piyancı, Sansar Salvo, Allame, Pit10, Beta, Kamufle         1\n",
       "Lips, George Mason, Rose McIver, Kimbra                                         1\n",
       "Joakim Kleven, KOH                                                              1\n",
       "Lazyloxy, Maiyarap, OG-ANIC, UrboyTJ                                            1\n",
       "Luna 99                                                                         1\n",
       "Name: artist, Length: 96156, dtype: int64"
      ]
     },
     "execution_count": 6,
     "metadata": {},
     "output_type": "execute_result"
    }
   ],
   "source": [
    "df['artist'].value_counts()"
   ]
  },
  {
   "cell_type": "code",
   "execution_count": 7,
   "id": "3dcd99c5",
   "metadata": {
    "execution": {
     "iopub.execute_input": "2022-02-17T23:40:29.516645Z",
     "iopub.status.busy": "2022-02-17T23:40:29.516005Z",
     "iopub.status.idle": "2022-02-17T23:40:29.774898Z",
     "shell.execute_reply": "2022-02-17T23:40:29.774220Z",
     "shell.execute_reply.started": "2022-02-17T23:17:15.176002Z"
    },
    "papermill": {
     "duration": 1.76029,
     "end_time": "2022-02-17T23:40:29.775050",
     "exception": false,
     "start_time": "2022-02-17T23:40:28.014760",
     "status": "completed"
    },
    "tags": []
   },
   "outputs": [
    {
     "name": "stdout",
     "output_type": "stream",
     "text": [
      "                      title  rank        date      artist  \\\n",
      "309       Thinking out Loud   109  2017-01-01  Ed Sheeran   \n",
      "341              Photograph   140  2017-01-01  Ed Sheeran   \n",
      "571              Photograph   169  2017-01-01  Ed Sheeran   \n",
      "695       Thinking out Loud    93  2017-01-01  Ed Sheeran   \n",
      "737              Photograph   135  2017-01-01  Ed Sheeran   \n",
      "...                     ...   ...         ...         ...   \n",
      "26173275         Bad Habits    11  2021-07-31  Ed Sheeran   \n",
      "26173336         Bad Habits    22  2021-07-31  Ed Sheeran   \n",
      "26173410         Bad Habits    46  2021-07-31  Ed Sheeran   \n",
      "26173427         Bad Habits    13  2021-07-31  Ed Sheeran   \n",
      "26173499         Bad Habits    36  2021-07-31  Ed Sheeran   \n",
      "\n",
      "                                                        url  \\\n",
      "309       https://open.spotify.com/track/1Slwb6dOYkBlWal...   \n",
      "341       https://open.spotify.com/track/6fxVffaTuwjgEk5...   \n",
      "571       https://open.spotify.com/track/6fxVffaTuwjgEk5...   \n",
      "695       https://open.spotify.com/track/1Slwb6dOYkBlWal...   \n",
      "737       https://open.spotify.com/track/6fxVffaTuwjgEk5...   \n",
      "...                                                     ...   \n",
      "26173275  https://open.spotify.com/track/6PQ88X9TkUIAUIZ...   \n",
      "26173336  https://open.spotify.com/track/6PQ88X9TkUIAUIZ...   \n",
      "26173410  https://open.spotify.com/track/6PQ88X9TkUIAUIZ...   \n",
      "26173427  https://open.spotify.com/track/6PQ88X9TkUIAUIZ...   \n",
      "26173499  https://open.spotify.com/track/6PQ88X9TkUIAUIZ...   \n",
      "\n",
      "                        region    chart          trend  streams  \n",
      "309                  Australia   top200        MOVE_UP  16061.0  \n",
      "341                  Australia   top200      NEW_ENTRY  12891.0  \n",
      "571                    Austria   top200      NEW_ENTRY   1303.0  \n",
      "695                    Belgium   top200        MOVE_UP   3495.0  \n",
      "737                    Belgium   top200      NEW_ENTRY   2780.0  \n",
      "...                        ...      ...            ...      ...  \n",
      "26173275  United Arab Emirates  viral50      MOVE_DOWN      NaN  \n",
      "26173336        United Kingdom  viral50      MOVE_DOWN      NaN  \n",
      "26173410         United States  viral50  SAME_POSITION      NaN  \n",
      "26173427               Uruguay  viral50  SAME_POSITION      NaN  \n",
      "26173499               Vietnam  viral50      MOVE_DOWN      NaN  \n",
      "\n",
      "[387917 rows x 9 columns]\n"
     ]
    }
   ],
   "source": [
    "print(df[df['artist'] == 'Ed Sheeran'])"
   ]
  },
  {
   "cell_type": "markdown",
   "id": "0f5743e0",
   "metadata": {
    "papermill": {
     "duration": 0.012049,
     "end_time": "2022-02-17T23:40:29.799918",
     "exception": false,
     "start_time": "2022-02-17T23:40:29.787869",
     "status": "completed"
    },
    "tags": []
   },
   "source": [
    "**Reformat trend column**"
   ]
  },
  {
   "cell_type": "code",
   "execution_count": 8,
   "id": "1f717c7f",
   "metadata": {
    "execution": {
     "iopub.execute_input": "2022-02-17T23:40:30.846919Z",
     "iopub.status.busy": "2022-02-17T23:40:30.846273Z",
     "iopub.status.idle": "2022-02-17T23:40:31.476843Z",
     "shell.execute_reply": "2022-02-17T23:40:31.476259Z",
     "shell.execute_reply.started": "2022-02-17T23:17:19.384547Z"
    },
    "papermill": {
     "duration": 1.664624,
     "end_time": "2022-02-17T23:40:31.476984",
     "exception": false,
     "start_time": "2022-02-17T23:40:29.812360",
     "status": "completed"
    },
    "tags": []
   },
   "outputs": [
    {
     "name": "stdout",
     "output_type": "stream",
     "text": [
      "['SAME_POSITION' 'MOVE_UP' 'MOVE_DOWN' 'NEW_ENTRY']\n"
     ]
    }
   ],
   "source": [
    "# View current formatting\n",
    "#Abby Lloyd\n",
    "print(df.trend.unique())"
   ]
  },
  {
   "cell_type": "code",
   "execution_count": 9,
   "id": "2485c1d1",
   "metadata": {
    "execution": {
     "iopub.execute_input": "2022-02-17T23:40:31.948058Z",
     "iopub.status.busy": "2022-02-17T23:40:31.507780Z",
     "iopub.status.idle": "2022-02-17T23:41:16.925853Z",
     "shell.execute_reply": "2022-02-17T23:41:16.926345Z",
     "shell.execute_reply.started": "2022-02-17T23:17:21.572270Z"
    },
    "papermill": {
     "duration": 45.434531,
     "end_time": "2022-02-17T23:41:16.926523",
     "exception": false,
     "start_time": "2022-02-17T23:40:31.491992",
     "status": "completed"
    },
    "tags": []
   },
   "outputs": [
    {
     "name": "stdout",
     "output_type": "stream",
     "text": [
      "['same position' 'move up' 'move down' 'new entry']\n"
     ]
    }
   ],
   "source": [
    "# Build formatting function\n",
    "def get_formatted_trend(value):\n",
    "    result = re.fullmatch(r'([A-Z]+)(_)([A-Z]+)', value)\n",
    "    if result:\n",
    "        part1, part2, part3 = result.groups()\n",
    "        return part1.lower() + ' ' + part3.lower()\n",
    "    else:\n",
    "        return value\n",
    "\n",
    "# Map values to new Series\n",
    "formatted_trend = df['trend'].map(get_formatted_trend)\n",
    "\n",
    "# Replace previous values with formatted values\n",
    "df['trend'] = formatted_trend\n",
    "\n",
    "# Check work\n",
    "print(df.trend.unique())\n",
    "                          "
   ]
  },
  {
   "cell_type": "code",
   "execution_count": 10,
   "id": "1ed3883d",
   "metadata": {
    "execution": {
     "iopub.execute_input": "2022-02-17T23:41:18.463640Z",
     "iopub.status.busy": "2022-02-17T23:41:18.462926Z",
     "iopub.status.idle": "2022-02-17T23:41:37.668377Z",
     "shell.execute_reply": "2022-02-17T23:41:37.668836Z",
     "shell.execute_reply.started": "2022-02-17T23:36:20.602809Z"
    },
    "papermill": {
     "duration": 20.72946,
     "end_time": "2022-02-17T23:41:37.669019",
     "exception": false,
     "start_time": "2022-02-17T23:41:16.939559",
     "status": "completed"
    },
    "tags": []
   },
   "outputs": [
    {
     "name": "stdout",
     "output_type": "stream",
     "text": [
      "[('Singapore', 1508109), ('New Zealand', 1369813), ('Australia', 1330406), ('United Kingdom', 1290175), ('Ireland', 1277202), ('Hong Kong', 1237281), ('Malaysia', 1189148), ('Philippines', 1076961), ('Global', 1076660), ('Czech Republic', 1042509), ('Denmark', 993156), ('Belgium', 943278), ('Sweden', 902402), ('Switzerland', 882087), ('Indonesia', 839288), ('Costa Rica', 826831), ('Hungary', 821195), ('Taiwan', 810712), ('Canada', 798702), ('Japan', 791416), ('Norway', 743733), ('Netherlands', 729961), ('Iceland', 726526), ('Portugal', 696207), ('Austria', 691894), ('Slovakia', 683771), ('Poland', 678746), ('South Africa', 586516), ('Uruguay', 574284), ('Germany', 557500), ('Vietnam', 549152), ('Colombia', 544987), ('Argentina', 541220), ('Italy', 525507), ('Ecuador', 524419), ('Finland', 523340), ('Spain', 505418), ('Honduras', 501846), ('United Arab Emirates', 500968), ('Greece', 493526), ('El Salvador', 492026), ('Guatemala', 455599), ('Chile', 452676), ('United States', 452675), ('Peru', 452347), ('Mexico', 451516), ('Latvia', 451246), ('Paraguay', 449008), ('Panama', 448465), ('Bolivia', 446897), ('Estonia', 446604), ('Thailand', 432488), ('Dominican Republic', 407487), ('Lithuania', 404405), ('Brazil', 393261), ('Israel', 389699), ('France', 389405), ('Bulgaria', 354936), ('Romania', 297470), ('Turkey', 217121), ('Saudi Arabia', 204866), ('India', 185556), ('Luxembourg', 174947), ('Nicaragua', 142221), ('Andorra', 111507), ('South Korea', 105602), ('Morocco', 97766), ('Egypt', 68691), ('Ukraine', 41996), ('Russia', 27597)]\n"
     ]
    }
   ],
   "source": [
    "# Create a function to determine which country the artist is most popular in.\n",
    "def get_country_score(artist):\n",
    "    artist_df = df[df['artist'] == artist]\n",
    "    score = {}\n",
    "    for index, row in artist_df.iterrows():\n",
    "        if row['region'] in score:\n",
    "            score[row['region']] += (201 - row['rank'])\n",
    "        else:\n",
    "            score[row['region']] = (201 - row['rank'])\n",
    "    score_items = score.items()\n",
    "    sorted_items = sorted(score_items, key = lambda x: x[1], reverse=True)\n",
    "    return print(sorted_items)\n",
    "    \n",
    "get_country_score('Ed Sheeran')\n",
    "    "
   ]
  }
 ],
 "metadata": {
  "kernelspec": {
   "display_name": "Python 3",
   "language": "python",
   "name": "python3"
  },
  "language_info": {
   "codemirror_mode": {
    "name": "ipython",
    "version": 3
   },
   "file_extension": ".py",
   "mimetype": "text/x-python",
   "name": "python",
   "nbconvert_exporter": "python",
   "pygments_lexer": "ipython3",
   "version": "3.7.12"
  },
  "papermill": {
   "default_parameters": {},
   "duration": 176.792406,
   "end_time": "2022-02-17T23:41:39.799808",
   "environment_variables": {},
   "exception": null,
   "input_path": "__notebook__.ipynb",
   "output_path": "__notebook__.ipynb",
   "parameters": {},
   "start_time": "2022-02-17T23:38:43.007402",
   "version": "2.3.3"
  }
 },
 "nbformat": 4,
 "nbformat_minor": 5
}
