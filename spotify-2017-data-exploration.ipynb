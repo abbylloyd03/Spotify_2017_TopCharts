{
 "cells": [
  {
   "cell_type": "markdown",
   "id": "19e8485f",
   "metadata": {
    "papermill": {
     "duration": 0.013456,
     "end_time": "2022-02-21T21:19:16.408895",
     "exception": false,
     "start_time": "2022-02-21T21:19:16.395439",
     "status": "completed"
    },
    "tags": []
   },
   "source": []
  },
  {
   "cell_type": "markdown",
   "id": "378585db",
   "metadata": {
    "papermill": {
     "duration": 0.011335,
     "end_time": "2022-02-21T21:19:16.432255",
     "exception": false,
     "start_time": "2022-02-21T21:19:16.420920",
     "status": "completed"
    },
    "tags": []
   },
   "source": [
    "# Exploratory Analysis of Spotify Top Charts Data (2017)"
   ]
  },
  {
   "cell_type": "code",
   "execution_count": 1,
   "id": "9b9aa244",
   "metadata": {
    "_cell_guid": "b1076dfc-b9ad-4769-8c92-a6c4dae69d19",
    "_uuid": "8f2839f25d086af736a60e9eeb907d3b93b6e0e5",
    "execution": {
     "iopub.execute_input": "2022-02-21T21:19:16.466968Z",
     "iopub.status.busy": "2022-02-21T21:19:16.464238Z",
     "iopub.status.idle": "2022-02-21T21:19:16.478874Z",
     "shell.execute_reply": "2022-02-21T21:19:16.477870Z",
     "shell.execute_reply.started": "2022-02-21T20:48:19.069940Z"
    },
    "papermill": {
     "duration": 0.035228,
     "end_time": "2022-02-21T21:19:16.479110",
     "exception": false,
     "start_time": "2022-02-21T21:19:16.443882",
     "status": "completed"
    },
    "tags": []
   },
   "outputs": [
    {
     "name": "stdout",
     "output_type": "stream",
     "text": [
      "/kaggle/input/spotify-charts/charts.csv\n"
     ]
    }
   ],
   "source": [
    "# This Python 3 environment comes with many helpful analytics libraries installed\n",
    "# It is defined by the kaggle/python Docker image: https://github.com/kaggle/docker-python\n",
    "# For example, here's several helpful packages to load\n",
    "\n",
    "import numpy as np # linear algebra\n",
    "import pandas as pd # data processing, CSV file I/O (e.g. pd.read_csv)\n",
    "import re\n",
    "import matplotlib.pyplot as plt\n",
    "\n",
    "# Input data files are available in the read-only \"../input/\" directory\n",
    "# For example, running this (by clicking run or pressing Shift+Enter) will list all files under the input directory\n",
    "\n",
    "import os\n",
    "for dirname, _, filenames in os.walk('/kaggle/input'):\n",
    "    for filename in filenames:\n",
    "        print(os.path.join(dirname, filename))\n",
    "\n",
    "# You can write up to 20GB to the current directory (/kaggle/working/) that gets preserved as output when you create a version using \"Save & Run All\" \n",
    "# You can also write temporary files to /kaggle/temp/, but they won't be saved outside of the current session"
   ]
  },
  {
   "cell_type": "markdown",
   "id": "05468b61",
   "metadata": {
    "papermill": {
     "duration": 0.011967,
     "end_time": "2022-02-21T21:19:16.505061",
     "exception": false,
     "start_time": "2022-02-21T21:19:16.493094",
     "status": "completed"
    },
    "tags": []
   },
   "source": [
    "## Explore data"
   ]
  },
  {
   "cell_type": "code",
   "execution_count": 2,
   "id": "178bccbf",
   "metadata": {
    "execution": {
     "iopub.execute_input": "2022-02-21T21:19:16.535151Z",
     "iopub.status.busy": "2022-02-21T21:19:16.534451Z",
     "iopub.status.idle": "2022-02-21T21:20:49.573314Z",
     "shell.execute_reply": "2022-02-21T21:20:49.573895Z",
     "shell.execute_reply.started": "2022-02-21T20:48:19.102282Z"
    },
    "papermill": {
     "duration": 93.05605,
     "end_time": "2022-02-21T21:20:49.574080",
     "exception": false,
     "start_time": "2022-02-21T21:19:16.518030",
     "status": "completed"
    },
    "tags": []
   },
   "outputs": [
    {
     "name": "stdout",
     "output_type": "stream",
     "text": [
      "                         title  rank        date  \\\n",
      "0      Chantaje (feat. Maluma)     1  2017-01-01   \n",
      "1  Vente Pa' Ca (feat. Maluma)     2  2017-01-01   \n",
      "2   Reggaetón Lento (Bailemos)     3  2017-01-01   \n",
      "3                       Safari     4  2017-01-01   \n",
      "4                  Shaky Shaky     5  2017-01-01   \n",
      "\n",
      "                                  artist  \\\n",
      "0                                Shakira   \n",
      "1                           Ricky Martin   \n",
      "2                                   CNCO   \n",
      "3  J Balvin, Pharrell Williams, BIA, Sky   \n",
      "4                           Daddy Yankee   \n",
      "\n",
      "                                                 url     region   chart  \\\n",
      "0  https://open.spotify.com/track/6mICuAdrwEjh6Y6...  Argentina  top200   \n",
      "1  https://open.spotify.com/track/7DM4BPaS7uofFul...  Argentina  top200   \n",
      "2  https://open.spotify.com/track/3AEZUABDXNtecAO...  Argentina  top200   \n",
      "3  https://open.spotify.com/track/6rQSrBHf7HlZjtc...  Argentina  top200   \n",
      "4  https://open.spotify.com/track/58IL315gMSTD37D...  Argentina  top200   \n",
      "\n",
      "           trend   streams  \n",
      "0  SAME_POSITION  253019.0  \n",
      "1        MOVE_UP  223988.0  \n",
      "2      MOVE_DOWN  210943.0  \n",
      "3  SAME_POSITION  173865.0  \n",
      "4        MOVE_UP  153956.0  \n"
     ]
    }
   ],
   "source": [
    "df = pd.read_csv(r'/kaggle/input/spotify-charts/charts.csv')\n",
    "print(df.head())"
   ]
  },
  {
   "cell_type": "code",
   "execution_count": 3,
   "id": "12aeb937",
   "metadata": {
    "execution": {
     "iopub.execute_input": "2022-02-21T21:20:49.607566Z",
     "iopub.status.busy": "2022-02-21T21:20:49.606688Z",
     "iopub.status.idle": "2022-02-21T21:20:49.610551Z",
     "shell.execute_reply": "2022-02-21T21:20:49.611007Z",
     "shell.execute_reply.started": "2022-02-21T20:49:27.591247Z"
    },
    "papermill": {
     "duration": 0.024269,
     "end_time": "2022-02-21T21:20:49.611164",
     "exception": false,
     "start_time": "2022-02-21T21:20:49.586895",
     "status": "completed"
    },
    "tags": []
   },
   "outputs": [
    {
     "data": {
      "text/plain": [
       "['title',\n",
       " 'rank',\n",
       " 'date',\n",
       " 'artist',\n",
       " 'url',\n",
       " 'region',\n",
       " 'chart',\n",
       " 'trend',\n",
       " 'streams']"
      ]
     },
     "execution_count": 3,
     "metadata": {},
     "output_type": "execute_result"
    }
   ],
   "source": [
    "list(df.columns)"
   ]
  },
  {
   "cell_type": "code",
   "execution_count": 4,
   "id": "28a9e2fb",
   "metadata": {
    "execution": {
     "iopub.execute_input": "2022-02-21T21:20:50.674879Z",
     "iopub.status.busy": "2022-02-21T21:20:50.673957Z",
     "iopub.status.idle": "2022-02-21T21:20:51.125624Z",
     "shell.execute_reply": "2022-02-21T21:20:51.126146Z",
     "shell.execute_reply.started": "2022-02-21T20:49:27.611117Z"
    },
    "papermill": {
     "duration": 1.501408,
     "end_time": "2022-02-21T21:20:51.126320",
     "exception": false,
     "start_time": "2022-02-21T21:20:49.624912",
     "status": "completed"
    },
    "tags": []
   },
   "outputs": [
    {
     "data": {
      "text/plain": [
       "['Argentina',\n",
       " 'Australia',\n",
       " 'Brazil',\n",
       " 'Austria',\n",
       " 'Belgium',\n",
       " 'Colombia',\n",
       " 'Bolivia',\n",
       " 'Denmark',\n",
       " 'Bulgaria',\n",
       " 'Canada',\n",
       " 'Chile',\n",
       " 'Costa Rica',\n",
       " 'Czech Republic',\n",
       " 'Finland',\n",
       " 'Dominican Republic',\n",
       " 'Ecuador',\n",
       " 'El Salvador',\n",
       " 'Estonia',\n",
       " 'France',\n",
       " 'Germany',\n",
       " 'Global',\n",
       " 'Greece',\n",
       " 'Guatemala',\n",
       " 'Honduras',\n",
       " 'Hong Kong',\n",
       " 'Hungary',\n",
       " 'Iceland',\n",
       " 'Indonesia',\n",
       " 'Ireland',\n",
       " 'Italy',\n",
       " 'Japan',\n",
       " 'Latvia',\n",
       " 'Lithuania',\n",
       " 'Malaysia',\n",
       " 'Luxembourg',\n",
       " 'Mexico',\n",
       " 'Netherlands',\n",
       " 'New Zealand',\n",
       " 'Nicaragua',\n",
       " 'Norway',\n",
       " 'Panama',\n",
       " 'Paraguay',\n",
       " 'Peru',\n",
       " 'Philippines',\n",
       " 'Poland',\n",
       " 'Portugal',\n",
       " 'Singapore',\n",
       " 'Spain',\n",
       " 'Slovakia',\n",
       " 'Sweden',\n",
       " 'Taiwan',\n",
       " 'Switzerland',\n",
       " 'Turkey',\n",
       " 'United Kingdom',\n",
       " 'United States',\n",
       " 'Uruguay',\n",
       " 'Thailand',\n",
       " 'Andorra',\n",
       " 'Romania',\n",
       " 'Vietnam',\n",
       " 'Egypt',\n",
       " 'India',\n",
       " 'Israel',\n",
       " 'Morocco',\n",
       " 'Saudi Arabia',\n",
       " 'South Africa',\n",
       " 'United Arab Emirates',\n",
       " 'Russia',\n",
       " 'Ukraine',\n",
       " 'South Korea']"
      ]
     },
     "execution_count": 4,
     "metadata": {},
     "output_type": "execute_result"
    }
   ],
   "source": [
    "list(df.region.unique())"
   ]
  },
  {
   "cell_type": "code",
   "execution_count": 5,
   "id": "8ffeddab",
   "metadata": {
    "execution": {
     "iopub.execute_input": "2022-02-21T21:20:52.205669Z",
     "iopub.status.busy": "2022-02-21T21:20:51.156605Z",
     "iopub.status.idle": "2022-02-21T21:20:52.607459Z",
     "shell.execute_reply": "2022-02-21T21:20:52.606905Z",
     "shell.execute_reply.started": "2022-02-21T20:49:29.640088Z"
    },
    "papermill": {
     "duration": 1.467834,
     "end_time": "2022-02-21T21:20:52.607606",
     "exception": false,
     "start_time": "2022-02-21T21:20:51.139772",
     "status": "completed"
    },
    "tags": []
   },
   "outputs": [
    {
     "data": {
      "text/plain": [
       "['top200', 'viral50']"
      ]
     },
     "execution_count": 5,
     "metadata": {},
     "output_type": "execute_result"
    }
   ],
   "source": [
    "list(df.chart.unique())"
   ]
  },
  {
   "cell_type": "code",
   "execution_count": 6,
   "id": "4677bb87",
   "metadata": {
    "execution": {
     "iopub.execute_input": "2022-02-21T21:20:56.165318Z",
     "iopub.status.busy": "2022-02-21T21:20:56.164292Z",
     "iopub.status.idle": "2022-02-21T21:20:56.212499Z",
     "shell.execute_reply": "2022-02-21T21:20:56.211906Z",
     "shell.execute_reply.started": "2022-02-21T20:49:31.580782Z"
    },
    "papermill": {
     "duration": 3.590806,
     "end_time": "2022-02-21T21:20:56.212683",
     "exception": false,
     "start_time": "2022-02-21T21:20:52.621877",
     "status": "completed"
    },
    "tags": []
   },
   "outputs": [
    {
     "data": {
      "text/plain": [
       "Ed Sheeran                                                                 387917\n",
       "Billie Eilish                                                              251825\n",
       "Post Malone                                                                211272\n",
       "Bad Bunny                                                                  203403\n",
       "Ariana Grande                                                              189914\n",
       "                                                                            ...  \n",
       "Ezhel, Patron, Anıl Piyancı, Sansar Salvo, Allame, Pit10, Beta, Kamufle         1\n",
       "Lips, George Mason, Rose McIver, Kimbra                                         1\n",
       "Joakim Kleven, KOH                                                              1\n",
       "Lazyloxy, Maiyarap, OG-ANIC, UrboyTJ                                            1\n",
       "Luna 99                                                                         1\n",
       "Name: artist, Length: 96156, dtype: int64"
      ]
     },
     "execution_count": 6,
     "metadata": {},
     "output_type": "execute_result"
    }
   ],
   "source": [
    "df['artist'].value_counts()"
   ]
  },
  {
   "cell_type": "code",
   "execution_count": 7,
   "id": "088f6482",
   "metadata": {
    "execution": {
     "iopub.execute_input": "2022-02-21T21:20:57.781163Z",
     "iopub.status.busy": "2022-02-21T21:20:57.780063Z",
     "iopub.status.idle": "2022-02-21T21:20:58.043511Z",
     "shell.execute_reply": "2022-02-21T21:20:58.042581Z",
     "shell.execute_reply.started": "2022-02-21T20:49:37.275322Z"
    },
    "papermill": {
     "duration": 1.815674,
     "end_time": "2022-02-21T21:20:58.043733",
     "exception": false,
     "start_time": "2022-02-21T21:20:56.228059",
     "status": "completed"
    },
    "tags": []
   },
   "outputs": [
    {
     "name": "stdout",
     "output_type": "stream",
     "text": [
      "                      title  rank        date      artist  \\\n",
      "309       Thinking out Loud   109  2017-01-01  Ed Sheeran   \n",
      "341              Photograph   140  2017-01-01  Ed Sheeran   \n",
      "571              Photograph   169  2017-01-01  Ed Sheeran   \n",
      "695       Thinking out Loud    93  2017-01-01  Ed Sheeran   \n",
      "737              Photograph   135  2017-01-01  Ed Sheeran   \n",
      "...                     ...   ...         ...         ...   \n",
      "26173275         Bad Habits    11  2021-07-31  Ed Sheeran   \n",
      "26173336         Bad Habits    22  2021-07-31  Ed Sheeran   \n",
      "26173410         Bad Habits    46  2021-07-31  Ed Sheeran   \n",
      "26173427         Bad Habits    13  2021-07-31  Ed Sheeran   \n",
      "26173499         Bad Habits    36  2021-07-31  Ed Sheeran   \n",
      "\n",
      "                                                        url  \\\n",
      "309       https://open.spotify.com/track/1Slwb6dOYkBlWal...   \n",
      "341       https://open.spotify.com/track/6fxVffaTuwjgEk5...   \n",
      "571       https://open.spotify.com/track/6fxVffaTuwjgEk5...   \n",
      "695       https://open.spotify.com/track/1Slwb6dOYkBlWal...   \n",
      "737       https://open.spotify.com/track/6fxVffaTuwjgEk5...   \n",
      "...                                                     ...   \n",
      "26173275  https://open.spotify.com/track/6PQ88X9TkUIAUIZ...   \n",
      "26173336  https://open.spotify.com/track/6PQ88X9TkUIAUIZ...   \n",
      "26173410  https://open.spotify.com/track/6PQ88X9TkUIAUIZ...   \n",
      "26173427  https://open.spotify.com/track/6PQ88X9TkUIAUIZ...   \n",
      "26173499  https://open.spotify.com/track/6PQ88X9TkUIAUIZ...   \n",
      "\n",
      "                        region    chart          trend  streams  \n",
      "309                  Australia   top200        MOVE_UP  16061.0  \n",
      "341                  Australia   top200      NEW_ENTRY  12891.0  \n",
      "571                    Austria   top200      NEW_ENTRY   1303.0  \n",
      "695                    Belgium   top200        MOVE_UP   3495.0  \n",
      "737                    Belgium   top200      NEW_ENTRY   2780.0  \n",
      "...                        ...      ...            ...      ...  \n",
      "26173275  United Arab Emirates  viral50      MOVE_DOWN      NaN  \n",
      "26173336        United Kingdom  viral50      MOVE_DOWN      NaN  \n",
      "26173410         United States  viral50  SAME_POSITION      NaN  \n",
      "26173427               Uruguay  viral50  SAME_POSITION      NaN  \n",
      "26173499               Vietnam  viral50      MOVE_DOWN      NaN  \n",
      "\n",
      "[387917 rows x 9 columns]\n"
     ]
    }
   ],
   "source": [
    "print(df[df['artist'] == 'Ed Sheeran'])"
   ]
  },
  {
   "cell_type": "markdown",
   "id": "c78fd7d4",
   "metadata": {
    "papermill": {
     "duration": 0.014208,
     "end_time": "2022-02-21T21:20:58.074051",
     "exception": false,
     "start_time": "2022-02-21T21:20:58.059843",
     "status": "completed"
    },
    "tags": []
   },
   "source": [
    "## Reformat trend column"
   ]
  },
  {
   "cell_type": "code",
   "execution_count": 8,
   "id": "18e6bdcd",
   "metadata": {
    "execution": {
     "iopub.execute_input": "2022-02-21T21:20:58.108724Z",
     "iopub.status.busy": "2022-02-21T21:20:58.108082Z",
     "iopub.status.idle": "2022-02-21T21:20:59.774137Z",
     "shell.execute_reply": "2022-02-21T21:20:59.774949Z",
     "shell.execute_reply.started": "2022-02-21T20:49:41.393848Z"
    },
    "papermill": {
     "duration": 1.684115,
     "end_time": "2022-02-21T21:20:59.775198",
     "exception": false,
     "start_time": "2022-02-21T21:20:58.091083",
     "status": "completed"
    },
    "tags": []
   },
   "outputs": [
    {
     "name": "stdout",
     "output_type": "stream",
     "text": [
      "['SAME_POSITION' 'MOVE_UP' 'MOVE_DOWN' 'NEW_ENTRY']\n"
     ]
    }
   ],
   "source": [
    "# View current formatting\n",
    "#Abby Lloyd\n",
    "print(df.trend.unique())"
   ]
  },
  {
   "cell_type": "code",
   "execution_count": 9,
   "id": "433dc908",
   "metadata": {
    "execution": {
     "iopub.execute_input": "2022-02-21T21:20:59.808256Z",
     "iopub.status.busy": "2022-02-21T21:20:59.807643Z",
     "iopub.status.idle": "2022-02-21T21:21:43.655946Z",
     "shell.execute_reply": "2022-02-21T21:21:43.656452Z",
     "shell.execute_reply.started": "2022-02-21T20:49:43.630288Z"
    },
    "papermill": {
     "duration": 43.866441,
     "end_time": "2022-02-21T21:21:43.656619",
     "exception": false,
     "start_time": "2022-02-21T21:20:59.790178",
     "status": "completed"
    },
    "tags": []
   },
   "outputs": [
    {
     "name": "stdout",
     "output_type": "stream",
     "text": [
      "['same position' 'move up' 'move down' 'new entry']\n"
     ]
    }
   ],
   "source": [
    "# Build formatting function\n",
    "def get_formatted_trend(value):\n",
    "    result = re.fullmatch(r'([A-Z]+)(_)([A-Z]+)', value)\n",
    "    if result:\n",
    "        part1, part2, part3 = result.groups()\n",
    "        return part1.lower() + ' ' + part3.lower()\n",
    "    else:\n",
    "        return value\n",
    "\n",
    "# Map values to new Series\n",
    "formatted_trend = df['trend'].map(get_formatted_trend)\n",
    "\n",
    "# Replace previous values with formatted values\n",
    "df['trend'] = formatted_trend\n",
    "\n",
    "# Check work\n",
    "print(df.trend.unique())\n",
    "                          "
   ]
  },
  {
   "cell_type": "markdown",
   "id": "6bf26e0a",
   "metadata": {
    "papermill": {
     "duration": 0.014353,
     "end_time": "2022-02-21T21:21:43.685442",
     "exception": false,
     "start_time": "2022-02-21T21:21:43.671089",
     "status": "completed"
    },
    "tags": []
   },
   "source": [
    "## Function to determine which country the artist is most popular in"
   ]
  },
  {
   "cell_type": "code",
   "execution_count": 10,
   "id": "fa81fe4b",
   "metadata": {
    "execution": {
     "iopub.execute_input": "2022-02-21T21:21:43.721122Z",
     "iopub.status.busy": "2022-02-21T21:21:43.720278Z",
     "iopub.status.idle": "2022-02-21T21:21:43.722023Z",
     "shell.execute_reply": "2022-02-21T21:21:43.722551Z",
     "shell.execute_reply.started": "2022-02-21T20:50:51.517287Z"
    },
    "papermill": {
     "duration": 0.022809,
     "end_time": "2022-02-21T21:21:43.722721",
     "exception": false,
     "start_time": "2022-02-21T21:21:43.699912",
     "status": "completed"
    },
    "tags": []
   },
   "outputs": [],
   "source": [
    "def get_country_score(artist):\n",
    "    artist_df = df[df['artist'] == artist]\n",
    "    score = {}\n",
    "    for index, row in artist_df.iterrows():\n",
    "        if row['region'] in score:\n",
    "            score[row['region']] += (201 - row['rank'])\n",
    "        else:\n",
    "            score[row['region']] = (201 - row['rank'])\n",
    "    # score_items = score.items()\n",
    "    # sorted_items = sorted(score_items, key = lambda x: x[1], reverse=True)\n",
    "    # return print(sorted_items)\n",
    "    return score\n",
    "    \n",
    "    "
   ]
  },
  {
   "cell_type": "markdown",
   "id": "beaddb34",
   "metadata": {
    "papermill": {
     "duration": 0.015233,
     "end_time": "2022-02-21T21:21:43.753067",
     "exception": false,
     "start_time": "2022-02-21T21:21:43.737834",
     "status": "completed"
    },
    "tags": []
   },
   "source": [
    "## Function to visualize an artist's top 10 regions by popularity"
   ]
  },
  {
   "cell_type": "code",
   "execution_count": 11,
   "id": "e2ccf767",
   "metadata": {
    "execution": {
     "iopub.execute_input": "2022-02-21T21:21:43.785844Z",
     "iopub.status.busy": "2022-02-21T21:21:43.785140Z",
     "iopub.status.idle": "2022-02-21T21:22:05.838857Z",
     "shell.execute_reply": "2022-02-21T21:22:05.839445Z",
     "shell.execute_reply.started": "2022-02-21T21:15:34.490979Z"
    },
    "papermill": {
     "duration": 22.07204,
     "end_time": "2022-02-21T21:22:05.839840",
     "exception": false,
     "start_time": "2022-02-21T21:21:43.767800",
     "status": "completed"
    },
    "tags": []
   },
   "outputs": [
    {
     "data": {
      "image/png": "[encoded data removed]",
      "text/plain": [
       "<Figure size 432x288 with 1 Axes>"
      ]
     },
     "metadata": {
      "needs_background": "light"
     },
     "output_type": "display_data"
    }
   ],
   "source": [
    "def visualize_country_score(artist):\n",
    "    score = get_country_score(artist)\n",
    "    score_items = score.items()\n",
    "    sorted_items = sorted(score_items, key = lambda x: x[1], reverse=True)\n",
    "    country, score = zip(*sorted_items)\n",
    "    plt.bar(country[:10], score[:10])\n",
    "    plt.xticks(rotation = 45)\n",
    "    plt.xlabel('Country')\n",
    "    plt.ylabel('Popularity score')\n",
    "    plt.title(f'Popularity by Region: {artist}')\n",
    "    plt.show()\n",
    "\n",
    "visualize_country_score('Ed Sheeran')"
   ]
  }
 ],
 "metadata": {
  "kernelspec": {
   "display_name": "Python 3",
   "language": "python",
   "name": "python3"
  },
  "language_info": {
   "codemirror_mode": {
    "name": "ipython",
    "version": 3
   },
   "file_extension": ".py",
   "mimetype": "text/x-python",
   "name": "python",
   "nbconvert_exporter": "python",
   "pygments_lexer": "ipython3",
   "version": "3.7.12"
  },
  "papermill": {
   "default_parameters": {},
   "duration": 180.995389,
   "end_time": "2022-02-21T21:22:08.368487",
   "environment_variables": {},
   "exception": null,
   "input_path": "__notebook__.ipynb",
   "output_path": "__notebook__.ipynb",
   "parameters": {},
   "start_time": "2022-02-21T21:19:07.373098",
   "version": "2.3.3"
  }
 },
 "nbformat": 4,
 "nbformat_minor": 5
}
